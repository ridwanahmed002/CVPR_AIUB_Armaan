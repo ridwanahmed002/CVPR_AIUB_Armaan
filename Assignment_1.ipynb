{
 "cells": [
  {
   "cell_type": "code",
   "execution_count": 9,
   "metadata": {},
   "outputs": [],
   "source": [
    "import tensorflow as tf\n",
    "from tensorflow import keras\n",
    "os.environ['TF_ENABLE_ONEDNN_OPTS'] = '0'\n",
    "import os\n",
    "import cv2\n",
    "import random\n",
    "import numpy as np\n",
    "import matplotlib.pyplot as plt\n",
    "from tqdm import tqdm\n",
    "from sklearn.model_selection import train_test_split\n",
    "from tensorflow.keras.utils import to_categorical\n",
    "from tensorflow.keras import layers, models\n",
    "from tensorflow.keras.optimizers import Adam"
   ]
  },
  {
   "cell_type": "code",
   "execution_count": 10,
   "metadata": {},
   "outputs": [],
   "source": [
    "dataset_path = '/home/ridwan/Documents/aiub/cvpr/pic/'"
   ]
  },
  {
   "cell_type": "code",
   "execution_count": 11,
   "metadata": {},
   "outputs": [
    {
     "name": "stderr",
     "output_type": "stream",
     "text": [
      "100%|██████████| 7/7 [00:03<00:00,  2.27it/s]\n"
     ]
    }
   ],
   "source": [
    "# Load dataset with resizing images to the same dimensions\n",
    "def load_dataset(dataset_path):\n",
    "    images = []\n",
    "    labels = []\n",
    "    label_names = os.listdir(dataset_path)\n",
    "    for index, name in enumerate(tqdm(label_names)):\n",
    "        folder_path = os.path.join(dataset_path, name)\n",
    "        for image_name in os.listdir(folder_path):\n",
    "            image_path = os.path.join(folder_path, image_name)\n",
    "            image = cv2.imread(image_path)\n",
    "            if image is not None:  # Check if the image was successfully loaded\n",
    "                image = cv2.resize(image, (224, 224))  # Resize images to 224x224 pixels\n",
    "                images.append(image)\n",
    "                labels.append(index)\n",
    "            else:\n",
    "                print(f\"Warning: Could not load image {image_path}\")\n",
    "    images = np.array(images, dtype='float32') / 255.0  # Normalize images\n",
    "    labels = np.array(labels)\n",
    "    labels = to_categorical(labels, num_classes=len(label_names))\n",
    "    return images, labels, label_names\n",
    "\n",
    "images, labels, label_names = load_dataset(dataset_path)\n"
   ]
  },
  {
   "cell_type": "code",
   "execution_count": 12,
   "metadata": {},
   "outputs": [],
   "source": [
    "# Split dataset\n",
    "X_train, X_test, y_train, y_test = train_test_split(images, labels, test_size=0.2, random_state=42)"
   ]
  },
  {
   "cell_type": "code",
   "execution_count": 13,
   "metadata": {},
   "outputs": [
    {
     "name": "stderr",
     "output_type": "stream",
     "text": [
      "2024-03-01 22:12:57.521859: E external/local_xla/xla/stream_executor/cuda/cuda_driver.cc:274] failed call to cuInit: CUDA_ERROR_NO_DEVICE: no CUDA-capable device is detected\n"
     ]
    }
   ],
   "source": [
    "# Build CNN model\n",
    "def build_model(num_classes):\n",
    "    model = models.Sequential([\n",
    "        layers.Conv2D(32, (3, 3), activation='relu', input_shape=(224, 224, 3)),\n",
    "        layers.MaxPooling2D((2, 2)),\n",
    "        layers.Conv2D(64, (3, 3), activation='relu'),\n",
    "        layers.MaxPooling2D((2, 2)),\n",
    "        layers.Conv2D(128, (3, 3), activation='relu'),\n",
    "        layers.Flatten(),\n",
    "        layers.Dense(512, activation='relu'),\n",
    "        layers.Dense(num_classes, activation='softmax'),\n",
    "    ])\n",
    "    return model\n",
    "\n",
    "model = build_model(num_classes=len(label_names))\n",
    "model.compile(optimizer=Adam(learning_rate=0.0001), loss='categorical_crossentropy', metrics=['accuracy'])\n"
   ]
  },
  {
   "cell_type": "code",
   "execution_count": 14,
   "metadata": {},
   "outputs": [
    {
     "name": "stdout",
     "output_type": "stream",
     "text": [
      "Epoch 1/20\n",
      "3/3 [==============================] - 5s 1s/step - loss: 5.2126 - accuracy: 0.1389 - val_loss: 2.6651 - val_accuracy: 0.1111\n",
      "Epoch 2/20\n",
      "3/3 [==============================] - 4s 1s/step - loss: 2.1019 - accuracy: 0.2222 - val_loss: 2.0909 - val_accuracy: 0.5000\n",
      "Epoch 3/20\n",
      "3/3 [==============================] - 4s 1s/step - loss: 2.4423 - accuracy: 0.3194 - val_loss: 2.0629 - val_accuracy: 0.5000\n",
      "Epoch 4/20\n",
      "3/3 [==============================] - 4s 1s/step - loss: 2.0357 - accuracy: 0.4306 - val_loss: 2.0966 - val_accuracy: 0.2222\n",
      "Epoch 5/20\n",
      "3/3 [==============================] - 4s 1s/step - loss: 1.6968 - accuracy: 0.5278 - val_loss: 1.7846 - val_accuracy: 0.1667\n",
      "Epoch 6/20\n",
      "3/3 [==============================] - 4s 1s/step - loss: 1.3229 - accuracy: 0.6250 - val_loss: 1.4942 - val_accuracy: 0.5556\n",
      "Epoch 7/20\n",
      "3/3 [==============================] - 4s 1s/step - loss: 1.0595 - accuracy: 0.7083 - val_loss: 1.4201 - val_accuracy: 0.6111\n",
      "Epoch 8/20\n",
      "3/3 [==============================] - 4s 1s/step - loss: 1.0191 - accuracy: 0.6250 - val_loss: 1.3445 - val_accuracy: 0.5556\n",
      "Epoch 9/20\n",
      "3/3 [==============================] - 4s 1s/step - loss: 0.7681 - accuracy: 0.7083 - val_loss: 1.2783 - val_accuracy: 0.6111\n",
      "Epoch 10/20\n",
      "3/3 [==============================] - 4s 1s/step - loss: 0.5812 - accuracy: 0.9444 - val_loss: 1.3634 - val_accuracy: 0.5000\n",
      "Epoch 11/20\n",
      "3/3 [==============================] - 4s 1s/step - loss: 0.4771 - accuracy: 0.9444 - val_loss: 1.1808 - val_accuracy: 0.7222\n",
      "Epoch 12/20\n",
      "3/3 [==============================] - 4s 1s/step - loss: 0.3432 - accuracy: 0.9583 - val_loss: 1.2031 - val_accuracy: 0.6667\n",
      "Epoch 13/20\n",
      "3/3 [==============================] - 4s 1s/step - loss: 0.2683 - accuracy: 0.9444 - val_loss: 1.1162 - val_accuracy: 0.6111\n",
      "Epoch 14/20\n",
      "3/3 [==============================] - 4s 1s/step - loss: 0.1613 - accuracy: 1.0000 - val_loss: 1.1166 - val_accuracy: 0.6667\n",
      "Epoch 15/20\n",
      "3/3 [==============================] - 3s 1s/step - loss: 0.1158 - accuracy: 1.0000 - val_loss: 1.0701 - val_accuracy: 0.6667\n",
      "Epoch 16/20\n",
      "3/3 [==============================] - 3s 1s/step - loss: 0.0663 - accuracy: 1.0000 - val_loss: 1.1294 - val_accuracy: 0.7222\n",
      "Epoch 17/20\n",
      "3/3 [==============================] - 3s 1s/step - loss: 0.0486 - accuracy: 1.0000 - val_loss: 1.2244 - val_accuracy: 0.7222\n",
      "Epoch 18/20\n",
      "3/3 [==============================] - 3s 1s/step - loss: 0.0376 - accuracy: 1.0000 - val_loss: 1.1749 - val_accuracy: 0.7222\n",
      "Epoch 19/20\n",
      "3/3 [==============================] - 3s 1s/step - loss: 0.0190 - accuracy: 1.0000 - val_loss: 1.1472 - val_accuracy: 0.6667\n",
      "Epoch 20/20\n",
      "3/3 [==============================] - 3s 1s/step - loss: 0.0135 - accuracy: 1.0000 - val_loss: 1.1994 - val_accuracy: 0.6667\n"
     ]
    }
   ],
   "source": [
    "# Train model\n",
    "history = model.fit(X_train, y_train, epochs=20, validation_data=(X_test, y_test), batch_size=32)\n"
   ]
  },
  {
   "cell_type": "code",
   "execution_count": null,
   "metadata": {},
   "outputs": [],
   "source": [
    "import cv2\n",
    "import numpy as np\n",
    "\n",
    "def real_time_recognition(model, label_names):\n",
    "    # Initialize the webcam (use 0 as the parameter to select the default webcam)\n",
    "    cap = cv2.VideoCapture(0)\n",
    "    \n",
    "    # Check if the webcam is opened correctly\n",
    "    if not cap.isOpened():\n",
    "        raise IOError(\"Cannot open webcam\")\n",
    "    \n",
    "    while True:\n",
    "        ret, frame = cap.read()  # Read a frame from the webcam\n",
    "        if not ret:\n",
    "            break\n",
    "        \n",
    "        # Preprocess the frame for prediction (resize, expand dimensions, normalize)\n",
    "        face = cv2.resize(frame, (224, 224))  # Assuming your model expects 224x224 inputs\n",
    "        face = np.expand_dims(face, axis=0)  # Add batch dimension\n",
    "        face = face / 255.0  # Normalize pixel values to [0, 1] as during training\n",
    "        \n",
    "        prediction = model.predict(face)  # Make prediction\n",
    "        predicted_class = label_names[np.argmax(prediction)]  # Get the name of the predicted class\n",
    "        \n",
    "        # Display the predicted class on the frame\n",
    "        cv2.putText(frame, predicted_class, (50, 50), cv2.FONT_HERSHEY_SIMPLEX, 1, (0, 255, 0), 2, cv2.LINE_AA)\n",
    "        \n",
    "        # Show the frame\n",
    "        cv2.imshow('Real-time Face Recognition', frame)\n",
    "        \n",
    "        # Break the loop when the 'q' key is pressed\n",
    "        if cv2.waitKey(1) & 0xFF == ord('q'):\n",
    "            break\n",
    "    \n",
    "    # Release the webcam and close all OpenCV windows\n",
    "    cap.release()\n",
    "    cv2.destroyAllWindows()\n",
    "\n",
    "# Assuming 'model' is your trained model and 'label_names' is a list of class names\n",
    "# real_time_recognition(model, label_names)\n"
   ]
  }
 ],
 "metadata": {
  "kernelspec": {
   "display_name": "tf 2.15 py3.9",
   "language": "python",
   "name": "tf"
  },
  "language_info": {
   "codemirror_mode": {
    "name": "ipython",
    "version": 3
   },
   "file_extension": ".py",
   "mimetype": "text/x-python",
   "name": "python",
   "nbconvert_exporter": "python",
   "pygments_lexer": "ipython3",
   "version": "3.9.18"
  }
 },
 "nbformat": 4,
 "nbformat_minor": 2
}
